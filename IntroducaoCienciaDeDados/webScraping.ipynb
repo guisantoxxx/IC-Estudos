{
 "cells": [
  {
   "cell_type": "markdown",
   "metadata": {},
   "source": [
    "### Instalando Bibliotecas"
   ]
  },
  {
   "cell_type": "code",
   "execution_count": 2,
   "metadata": {},
   "outputs": [],
   "source": [
    "import requests\n",
    "from bs4 import BeautifulSoup\n",
    "import pandas as pd"
   ]
  },
  {
   "cell_type": "markdown",
   "metadata": {},
   "source": [
    "### Página que será usada:\n",
    "\n",
    "<a href='https://statisticstimes.com/tech/top-computer-languages.php'>https://statisticstimes.com/tech/top-computer-languages.php</a>"
   ]
  },
  {
   "cell_type": "markdown",
   "metadata": {},
   "source": [
    "#### Vamos coletar a página"
   ]
  },
  {
   "cell_type": "code",
   "execution_count": null,
   "metadata": {},
   "outputs": [],
   "source": [
    "# Faz o request da página, contendo a página recebida\n",
    "html = requests.get(\"https://statisticstimes.com/tech/top-computer-languages.php\").content\n",
    "\n",
    "# Cria soup pelo parseador de html5\n",
    "soup = BeautifulSoup(html, \"html.parser\")  "
   ]
  },
  {
   "cell_type": "markdown",
   "metadata": {},
   "source": [
    "#### Com a biblioteca BeautifulSoup, vamos encontrar o primriro parágrafo, tag p"
   ]
  },
  {
   "cell_type": "code",
   "execution_count": 14,
   "metadata": {},
   "outputs": [
    {
     "name": "stdout",
     "output_type": "stream",
     "text": [
      "<p>Python is the top programming language in TIOBE and PYPL Index. Python has taken a lead of over 10% from C \n",
      "in TIOBE. In PYPL, a gap is much wider as top-ranked Python is ahead close to 13.9% from 2nd ranked Java.</p>\n",
      "Python is the top programming language in TIOBE and PYPL Index. Python has taken a lead of over 10% from C \n",
      "in TIOBE. In PYPL, a gap is much wider as top-ranked Python is ahead close to 13.9% from 2nd ranked Java.\n"
     ]
    }
   ],
   "source": [
    "primeiro_paragrafo = soup.find('p')\n",
    "\n",
    "print(primeiro_paragrafo)\n",
    "\n",
    "# para printar sem as tags\n",
    "print(primeiro_paragrafo.text)"
   ]
  },
  {
   "cell_type": "markdown",
   "metadata": {},
   "source": [
    "#### Pegando todos os parágrafos"
   ]
  },
  {
   "cell_type": "code",
   "execution_count": 19,
   "metadata": {},
   "outputs": [
    {
     "name": "stdout",
     "output_type": "stream",
     "text": [
      "[<p>Python is the top programming language in TIOBE and PYPL Index. Python has taken a lead of over 10% from C \n",
      "in TIOBE. In PYPL, a gap is much wider as top-ranked Python is ahead close to 13.9% from 2nd ranked Java.</p>, <p><b>TIOBE:</b> Python, C, Java, C++ and C# are way ahead of others in TIOBE Index. C++,\n",
      "Java and C are very close to each other at 2nd, 3rd and 4th number. C++ and C# have positive trends in the past five years. \n",
      "These three have negative trends in the past five years: Java, C, and PHP. PHP hit its lowest position ever in \n",
      "the TIOBE index in April 2024. PHP was at 3rd position in Mar 2010 is now at 17th. \n",
      "C has now at its lowest 4th position. The rating\n",
      "of Java has declined from 26.49% in June 2001 to 7.87% in Jan 2024.</p>, <p><b>PYPL:</b> Acc to PYPL, which publishes separate ranking for five countries, Python is the top language in \n",
      "all five countries (US, India, Germany, United Kingdom, France). Python has taken a huge lead in these five \n",
      "countries over the 2nd number of Java, and its shares are above 50% in Germany, France and United Kingdom,.\n",
      "Python and Java account for almost 45% of the global search. \n",
      "C/C++ is within top five in all five countries. JavaScript and C# are within top five in three countries.</p>, <p>PHP is the biggest loser in recent years in PYPL. Its share was over 20% in 2008; now, this fig is only 4.2% in 2024. \n",
      "Java is too declining but not as fast as PHP. Java's contribution was over 31% in 2008, and still, it holds 15.66%. In \n",
      "2004-2009, 50% of the search was of either Java or PHP.</p>, <p><b>TIOBE Index:</b> TIOBE ratings are calculated by counting hits of the most popular search engines. Twenty-five \n",
      "search engines are used to calculate the TIOBE index. The TIOBE Programming Community index is an indicator of the\n",
      " popularity of programming languages. The index started in the year 2001 and updated once a month.</p>, <p><b>PYPL Index:</b> The PYPL PopularitY of Programming Language Index is created by analyzing how often language\n",
      " tutorials are searched on Google. The index is updated once a month.</p>]\n",
      "<p>Python is the top programming language in TIOBE and PYPL Index. Python has taken a lead of over 10% from C \n",
      "in TIOBE. In PYPL, a gap is much wider as top-ranked Python is ahead close to 13.9% from 2nd ranked Java.</p>\n",
      "Python is the top programming language in TIOBE and PYPL Index. Python has taken a lead of over 10% from C \n",
      "in TIOBE. In PYPL, a gap is much wider as top-ranked Python is ahead close to 13.9% from 2nd ranked Java.\n"
     ]
    }
   ],
   "source": [
    "# Cria uma lista dos parágrafos\n",
    "todos_paragrafos = soup.findAll('p')\n",
    "\n",
    "print(todos_paragrafos)\n",
    "\n",
    "# Pode acessar os diferentes parágrafos pelos índices das listas\n",
    "print(todos_paragrafos[0])\n",
    "print(todos_paragrafos[1])\n",
    "print(todos_paragrafos[2])\n",
    "\n",
    "print(todos_paragrafos[0].text)"
   ]
  },
  {
   "cell_type": "markdown",
   "metadata": {},
   "source": [
    "#### Pegando links"
   ]
  },
  {
   "cell_type": "code",
   "execution_count": 22,
   "metadata": {},
   "outputs": [
    {
     "name": "stdout",
     "output_type": "stream",
     "text": [
      "[<a href=\"/index.php\">\n",
      "<img alt=\"statisticstimes\" height=\"90\" src=\"/statistics.png\" width=\"200\"/>\n",
      "</a>, <a href=\"/index.php\">World</a>, <a href=\"/india.php\">India</a>, <a href=\"/economy/world-statistics.php\">World</a>, <a href=\"/economy/country-statistics.php\">Country</a>, <a href=\"/economy/india-statistics.php\">India</a>, <a href=\"/demographics/world-statistics.php\">World</a>, <a href=\"/demographics/country-statistics.php\">Country</a>, <a href=\"/demographics/india-statistics.php\">India</a>, <a href=\"/politics/india-statistics.php\">India</a>, <a href=\"/geography/world-statistics.php\">World</a>, <a href=\"/geography/india-statistics.php\">India</a>, <a href=\"/tech/world-statistics.php\">Tech</a>, <a href=\"/sports/world-statistics.php\">World</a>, <a href=\"/sports/india-statistics.php\">India</a>, <a href=\"/ranking/world-statistics.php\">Ranking</a>, <a href=\"/article/world-statistics.php\">World</a>, <a href=\"/article/india-statistics.php\">India</a>, <a href=\"https://www.tiobe.com/tiobe-index/\" target=\"_blank\">TIOBE Index</a>, <a href=\"http://pypl.github.io/PYPL.html\" target=\"_blank\">PYPL PopularitY of Programming Language Index</a>, <a class=\"ls\" href=\"/sports/ipl/ipl-2024.php\">\n",
      "       IPL 2024</a>, <a class=\"ls\" href=\"/economy/continents-by-gdp-per-capita.php\">\n",
      "       List of continents by gdp per capita</a>, <a class=\"ls\" href=\"/economy/largest-economies-in-the-world.php\">\n",
      "       Top 10 largest economies by GDP</a>, <a href=\"/about.php\" style=\"text-decoration: none;\"> About US</a>, <a href=\"/termsofuse.php\" style=\"text-decoration: none;\"> Terms Of Use </a>, <a href=\"/privacy.php\" style=\"text-decoration: none;\"> Privacy Policy </a>, <a href=\"/contact.php\" style=\"text-decoration: none;\"> Contact Us </a>]\n"
     ]
    }
   ],
   "source": [
    "todos_links = soup.find_all('a')\n",
    "\n",
    "print(todos_links)"
   ]
  },
  {
   "cell_type": "markdown",
   "metadata": {},
   "source": [
    "#### Vamos inspecionar a tabela, para pegas os dados da tabela 'PYPL Index (Worldwide)"
   ]
  },
  {
   "cell_type": "code",
   "execution_count": 23,
   "metadata": {},
   "outputs": [
    {
     "name": "stdout",
     "output_type": "stream",
     "text": [
      "<tbody>\n",
      "<tr><td class=\"data1\">1</td><td class=\"data1\"></td><td class=\"name\">Python</td><td class=\"data1\"> 29.56 %</td><td class=\"data1\">+1.6 %</td></tr>\n",
      "<tr><td class=\"data1\">2</td><td class=\"data1\"></td><td class=\"name\">Java</td><td class=\"data1\"> 15.66 %</td><td class=\"data1\">-0.2 %</td></tr>\n",
      "<tr><td class=\"data1\">3</td><td class=\"data1\"></td><td class=\"name\">JavaScript</td><td class=\"data1\"> 8.16 %</td><td class=\"data1\">-1.0 %</td></tr>\n",
      "<tr><td class=\"data1\">4</td><td class=\"data1\"></td><td class=\"name\">C/C++</td><td class=\"data1\"> 6.76 %</td><td class=\"data1\">-0.0 %</td></tr>\n",
      "<tr><td class=\"data1\">5</td><td class=\"data1\"></td><td class=\"name\">C#</td><td class=\"data1\"> 6.58 %</td><td class=\"data1\">-0.1 %</td></tr>\n",
      "<tr><td class=\"data1\">6</td><td class=\"data1\">↑</td><td class=\"name\">R</td><td class=\"data1\"> 4.64 %</td><td class=\"data1\">+0.2 %</td></tr>\n",
      "<tr><td class=\"data1\">7</td><td class=\"data1\">↓</td><td class=\"name\">PHP</td><td class=\"data1\"> 4.2 %</td><td class=\"data1\">-0.7 %</td></tr>\n",
      "<tr><td class=\"data1\">8</td><td class=\"data1\"></td><td class=\"name\">TypeScript</td><td class=\"data1\"> 2.95 %</td><td class=\"data1\">-0.0 %</td></tr>\n",
      "<tr><td class=\"data1\">9</td><td class=\"data1\"></td><td class=\"name\">Swift</td><td class=\"data1\"> 2.64 %</td><td class=\"data1\">-0.1 %</td></tr>\n",
      "<tr><td class=\"data1\">10</td><td class=\"data1\">↑</td><td class=\"name\">Rust</td><td class=\"data1\"> 2.55 %</td><td class=\"data1\">+0.5 %</td></tr>\n",
      "<tr><td class=\"data1\">11</td><td class=\"data1\">↓</td><td class=\"name\">Objective-C</td><td class=\"data1\"> 2.53 %</td><td class=\"data1\">+0.2 %</td></tr>\n",
      "<tr><td class=\"data1\">12</td><td class=\"data1\"></td><td class=\"name\">Go</td><td class=\"data1\"> 2.12 %</td><td class=\"data1\">+0.1 %</td></tr>\n",
      "<tr><td class=\"data1\">13</td><td class=\"data1\"></td><td class=\"name\">Kotlin</td><td class=\"data1\"> 1.93 %</td><td class=\"data1\">+0.2 %</td></tr>\n",
      "<tr><td class=\"data1\">14</td><td class=\"data1\"></td><td class=\"name\">Matlab</td><td class=\"data1\"> 1.46 %</td><td class=\"data1\">-0.1 %</td></tr>\n",
      "<tr><td class=\"data1\">15</td><td class=\"data1\"></td><td class=\"name\">Ada</td><td class=\"data1\"> 1.0 %</td><td class=\"data1\">-0.0 %</td></tr>\n",
      "<tr><td class=\"data1\">16</td><td class=\"data1\"></td><td class=\"name\">Ruby</td><td class=\"data1\"> 1.0 %</td><td class=\"data1\">-0.0 %</td></tr>\n",
      "<tr><td class=\"data1\">17</td><td class=\"data1\"></td><td class=\"name\">VBA</td><td class=\"data1\"> 0.99 %</td><td class=\"data1\">+0.0 %</td></tr>\n",
      "<tr><td class=\"data1\">18</td><td class=\"data1\">↑</td><td class=\"name\">Powershell</td><td class=\"data1\"> 0.95 %</td><td class=\"data1\">+0.0 %</td></tr>\n",
      "<tr><td class=\"data1\">19</td><td class=\"data1\">↓</td><td class=\"name\">Dart</td><td class=\"data1\"> 0.93 %</td><td class=\"data1\">-0.0 %</td></tr>\n",
      "<tr><td class=\"data1\">20</td><td class=\"data1\"></td><td class=\"name\">Lua</td><td class=\"data1\"> 0.72 %</td><td class=\"data1\">+0.1 %</td></tr>\n",
      "<tr><td class=\"data1\">21</td><td class=\"data1\">↑</td><td class=\"name\">Abap</td><td class=\"data1\"> 0.62 %</td><td class=\"data1\">+0.0 %</td></tr>\n",
      "<tr><td class=\"data1\">22</td><td class=\"data1\">↓</td><td class=\"name\">Scala</td><td class=\"data1\"> 0.6 %</td><td class=\"data1\">-0.0 %</td></tr>\n",
      "<tr><td class=\"data1\">23</td><td class=\"data1\"></td><td class=\"name\">Visual Basic</td><td class=\"data1\"> 0.48 %</td><td class=\"data1\">-0.1 %</td></tr>\n",
      "<tr><td class=\"data1\">24</td><td class=\"data1\"></td><td class=\"name\">Julia</td><td class=\"data1\"> 0.36 %</td><td class=\"data1\">-0.0 %</td></tr>\n",
      "<tr><td class=\"data1\">25</td><td class=\"data1\"></td><td class=\"name\">Groovy</td><td class=\"data1\"> 0.24 %</td><td class=\"data1\">-0.1 %</td></tr>\n",
      "<tr><td class=\"data1\">26</td><td class=\"data1\">↑</td><td class=\"name\">Cobol</td><td class=\"data1\"> 0.24 %</td><td class=\"data1\">-0.0 %</td></tr>\n",
      "<tr><td class=\"data1\">27</td><td class=\"data1\">↓</td><td class=\"name\">Haskell</td><td class=\"data1\"> 0.08 %</td><td class=\"data1\">-0.2 %</td></tr>\n",
      "<tr><td class=\"data1\">28</td><td class=\"data1\"></td><td class=\"name\">Delphi/Pascal</td><td class=\"data1\"> 0.07 %</td><td class=\"data1\">-0.1 %</td></tr>\n",
      "</tbody>\n"
     ]
    }
   ],
   "source": [
    "# É necessário inspecionar a página Web afim de pegar o id da tabela no html\n",
    "# Encontra o elemento do tipo table com o id correspondente\n",
    "# depois da um find novamente no tbody, para pegar as informações\n",
    "# TUDO está contido no tbody nesse caso, por isso do outro find\n",
    "# Primeiro acha a tabela e depois acha onde as informações estão contidas na tabela\n",
    "tabela = soup.find('table', {'id': 'table_id1'}).find('tbody')\n",
    "\n",
    "print(tabela)"
   ]
  },
  {
   "cell_type": "code",
   "execution_count": 26,
   "metadata": {},
   "outputs": [
    {
     "name": "stdout",
     "output_type": "stream",
     "text": [
      "1\n",
      "Python\n",
      " 29.56 %\n",
      "-------\n",
      "2\n",
      "Java\n",
      " 15.66 %\n",
      "-------\n",
      "3\n",
      "JavaScript\n",
      " 8.16 %\n",
      "-------\n",
      "4\n",
      "C/C++\n",
      " 6.76 %\n",
      "-------\n",
      "5\n",
      "C#\n",
      " 6.58 %\n",
      "-------\n",
      "6\n",
      "R\n",
      " 4.64 %\n",
      "-------\n",
      "7\n",
      "PHP\n",
      " 4.2 %\n",
      "-------\n",
      "8\n",
      "TypeScript\n",
      " 2.95 %\n",
      "-------\n",
      "9\n",
      "Swift\n",
      " 2.64 %\n",
      "-------\n",
      "10\n",
      "Rust\n",
      " 2.55 %\n",
      "-------\n",
      "11\n",
      "Objective-C\n",
      " 2.53 %\n",
      "-------\n",
      "12\n",
      "Go\n",
      " 2.12 %\n",
      "-------\n",
      "13\n",
      "Kotlin\n",
      " 1.93 %\n",
      "-------\n",
      "14\n",
      "Matlab\n",
      " 1.46 %\n",
      "-------\n",
      "15\n",
      "Ada\n",
      " 1.0 %\n",
      "-------\n",
      "16\n",
      "Ruby\n",
      " 1.0 %\n",
      "-------\n",
      "17\n",
      "VBA\n",
      " 0.99 %\n",
      "-------\n",
      "18\n",
      "Powershell\n",
      " 0.95 %\n",
      "-------\n",
      "19\n",
      "Dart\n",
      " 0.93 %\n",
      "-------\n",
      "20\n",
      "Lua\n",
      " 0.72 %\n",
      "-------\n",
      "21\n",
      "Abap\n",
      " 0.62 %\n",
      "-------\n",
      "22\n",
      "Scala\n",
      " 0.6 %\n",
      "-------\n",
      "23\n",
      "Visual Basic\n",
      " 0.48 %\n",
      "-------\n",
      "24\n",
      "Julia\n",
      " 0.36 %\n",
      "-------\n",
      "25\n",
      "Groovy\n",
      " 0.24 %\n",
      "-------\n",
      "26\n",
      "Cobol\n",
      " 0.24 %\n",
      "-------\n",
      "27\n",
      "Haskell\n",
      " 0.08 %\n",
      "-------\n",
      "28\n",
      "Delphi/Pascal\n",
      " 0.07 %\n",
      "-------\n"
     ]
    }
   ],
   "source": [
    "linhas = tabela.find_all('tr')\n",
    "\n",
    "for linha in linhas:\n",
    "  dado = linha.find_all('td')\n",
    "  print(dado[0].text)\n",
    "  print(dado[2].text)\n",
    "  print(dado[3].text)\n",
    "  print('-------')\n"
   ]
  },
  {
   "cell_type": "markdown",
   "metadata": {},
   "source": [
    "#### Montar uma lista de linguagens e de porcentagem com os dados, para depois compor um DF"
   ]
  },
  {
   "cell_type": "code",
   "execution_count": 27,
   "metadata": {},
   "outputs": [
    {
     "name": "stdout",
     "output_type": "stream",
     "text": [
      "['Python', 'Java', 'JavaScript', 'C/C++', 'C#', 'R', 'PHP', 'TypeScript', 'Swift', 'Rust', 'Objective-C', 'Go', 'Kotlin', 'Matlab', 'Ada', 'Ruby', 'VBA', 'Powershell', 'Dart', 'Lua', 'Abap', 'Scala', 'Visual Basic', 'Julia', 'Groovy', 'Cobol', 'Haskell', 'Delphi/Pascal']\n",
      "[' 29.56 %', ' 15.66 %', ' 8.16 %', ' 6.76 %', ' 6.58 %', ' 4.64 %', ' 4.2 %', ' 2.95 %', ' 2.64 %', ' 2.55 %', ' 2.53 %', ' 2.12 %', ' 1.93 %', ' 1.46 %', ' 1.0 %', ' 1.0 %', ' 0.99 %', ' 0.95 %', ' 0.93 %', ' 0.72 %', ' 0.62 %', ' 0.6 %', ' 0.48 %', ' 0.36 %', ' 0.24 %', ' 0.24 %', ' 0.08 %', ' 0.07 %']\n"
     ]
    }
   ],
   "source": [
    "linguagem = []\n",
    "pontos = []\n",
    "\n",
    "for linha in linhas:\n",
    "  dado = linha.findAll('td')\n",
    "  linguagem.append(dado[2].text)\n",
    "  pontos.append(dado[3].text)\n",
    "\n",
    "print(linguagem)\n",
    "print(pontos)"
   ]
  },
  {
   "cell_type": "code",
   "execution_count": 28,
   "metadata": {},
   "outputs": [
    {
     "data": {
      "text/html": [
       "<div>\n",
       "<style scoped>\n",
       "    .dataframe tbody tr th:only-of-type {\n",
       "        vertical-align: middle;\n",
       "    }\n",
       "\n",
       "    .dataframe tbody tr th {\n",
       "        vertical-align: top;\n",
       "    }\n",
       "\n",
       "    .dataframe thead th {\n",
       "        text-align: right;\n",
       "    }\n",
       "</style>\n",
       "<table border=\"1\" class=\"dataframe\">\n",
       "  <thead>\n",
       "    <tr style=\"text-align: right;\">\n",
       "      <th></th>\n",
       "      <th>Linguagem</th>\n",
       "      <th>Pontos</th>\n",
       "    </tr>\n",
       "  </thead>\n",
       "  <tbody>\n",
       "    <tr>\n",
       "      <th>0</th>\n",
       "      <td>Python</td>\n",
       "      <td>29.56 %</td>\n",
       "    </tr>\n",
       "    <tr>\n",
       "      <th>1</th>\n",
       "      <td>Java</td>\n",
       "      <td>15.66 %</td>\n",
       "    </tr>\n",
       "    <tr>\n",
       "      <th>2</th>\n",
       "      <td>JavaScript</td>\n",
       "      <td>8.16 %</td>\n",
       "    </tr>\n",
       "    <tr>\n",
       "      <th>3</th>\n",
       "      <td>C/C++</td>\n",
       "      <td>6.76 %</td>\n",
       "    </tr>\n",
       "    <tr>\n",
       "      <th>4</th>\n",
       "      <td>C#</td>\n",
       "      <td>6.58 %</td>\n",
       "    </tr>\n",
       "    <tr>\n",
       "      <th>5</th>\n",
       "      <td>R</td>\n",
       "      <td>4.64 %</td>\n",
       "    </tr>\n",
       "    <tr>\n",
       "      <th>6</th>\n",
       "      <td>PHP</td>\n",
       "      <td>4.2 %</td>\n",
       "    </tr>\n",
       "    <tr>\n",
       "      <th>7</th>\n",
       "      <td>TypeScript</td>\n",
       "      <td>2.95 %</td>\n",
       "    </tr>\n",
       "    <tr>\n",
       "      <th>8</th>\n",
       "      <td>Swift</td>\n",
       "      <td>2.64 %</td>\n",
       "    </tr>\n",
       "    <tr>\n",
       "      <th>9</th>\n",
       "      <td>Rust</td>\n",
       "      <td>2.55 %</td>\n",
       "    </tr>\n",
       "    <tr>\n",
       "      <th>10</th>\n",
       "      <td>Objective-C</td>\n",
       "      <td>2.53 %</td>\n",
       "    </tr>\n",
       "    <tr>\n",
       "      <th>11</th>\n",
       "      <td>Go</td>\n",
       "      <td>2.12 %</td>\n",
       "    </tr>\n",
       "    <tr>\n",
       "      <th>12</th>\n",
       "      <td>Kotlin</td>\n",
       "      <td>1.93 %</td>\n",
       "    </tr>\n",
       "    <tr>\n",
       "      <th>13</th>\n",
       "      <td>Matlab</td>\n",
       "      <td>1.46 %</td>\n",
       "    </tr>\n",
       "    <tr>\n",
       "      <th>14</th>\n",
       "      <td>Ada</td>\n",
       "      <td>1.0 %</td>\n",
       "    </tr>\n",
       "    <tr>\n",
       "      <th>15</th>\n",
       "      <td>Ruby</td>\n",
       "      <td>1.0 %</td>\n",
       "    </tr>\n",
       "    <tr>\n",
       "      <th>16</th>\n",
       "      <td>VBA</td>\n",
       "      <td>0.99 %</td>\n",
       "    </tr>\n",
       "    <tr>\n",
       "      <th>17</th>\n",
       "      <td>Powershell</td>\n",
       "      <td>0.95 %</td>\n",
       "    </tr>\n",
       "    <tr>\n",
       "      <th>18</th>\n",
       "      <td>Dart</td>\n",
       "      <td>0.93 %</td>\n",
       "    </tr>\n",
       "    <tr>\n",
       "      <th>19</th>\n",
       "      <td>Lua</td>\n",
       "      <td>0.72 %</td>\n",
       "    </tr>\n",
       "    <tr>\n",
       "      <th>20</th>\n",
       "      <td>Abap</td>\n",
       "      <td>0.62 %</td>\n",
       "    </tr>\n",
       "    <tr>\n",
       "      <th>21</th>\n",
       "      <td>Scala</td>\n",
       "      <td>0.6 %</td>\n",
       "    </tr>\n",
       "    <tr>\n",
       "      <th>22</th>\n",
       "      <td>Visual Basic</td>\n",
       "      <td>0.48 %</td>\n",
       "    </tr>\n",
       "    <tr>\n",
       "      <th>23</th>\n",
       "      <td>Julia</td>\n",
       "      <td>0.36 %</td>\n",
       "    </tr>\n",
       "    <tr>\n",
       "      <th>24</th>\n",
       "      <td>Groovy</td>\n",
       "      <td>0.24 %</td>\n",
       "    </tr>\n",
       "    <tr>\n",
       "      <th>25</th>\n",
       "      <td>Cobol</td>\n",
       "      <td>0.24 %</td>\n",
       "    </tr>\n",
       "    <tr>\n",
       "      <th>26</th>\n",
       "      <td>Haskell</td>\n",
       "      <td>0.08 %</td>\n",
       "    </tr>\n",
       "    <tr>\n",
       "      <th>27</th>\n",
       "      <td>Delphi/Pascal</td>\n",
       "      <td>0.07 %</td>\n",
       "    </tr>\n",
       "  </tbody>\n",
       "</table>\n",
       "</div>"
      ],
      "text/plain": [
       "        Linguagem    Pontos\n",
       "0          Python   29.56 %\n",
       "1            Java   15.66 %\n",
       "2      JavaScript    8.16 %\n",
       "3           C/C++    6.76 %\n",
       "4              C#    6.58 %\n",
       "5               R    4.64 %\n",
       "6             PHP     4.2 %\n",
       "7      TypeScript    2.95 %\n",
       "8           Swift    2.64 %\n",
       "9            Rust    2.55 %\n",
       "10    Objective-C    2.53 %\n",
       "11             Go    2.12 %\n",
       "12         Kotlin    1.93 %\n",
       "13         Matlab    1.46 %\n",
       "14            Ada     1.0 %\n",
       "15           Ruby     1.0 %\n",
       "16            VBA    0.99 %\n",
       "17     Powershell    0.95 %\n",
       "18           Dart    0.93 %\n",
       "19            Lua    0.72 %\n",
       "20           Abap    0.62 %\n",
       "21          Scala     0.6 %\n",
       "22   Visual Basic    0.48 %\n",
       "23          Julia    0.36 %\n",
       "24         Groovy    0.24 %\n",
       "25          Cobol    0.24 %\n",
       "26        Haskell    0.08 %\n",
       "27  Delphi/Pascal    0.07 %"
      ]
     },
     "metadata": {},
     "output_type": "display_data"
    }
   ],
   "source": [
    "dados = pd.DataFrame(linguagem, columns=['Linguagem'])\n",
    "dados['Pontos'] = pontos\n",
    "\n",
    "display(dados)"
   ]
  }
 ],
 "metadata": {
  "kernelspec": {
   "display_name": "Python 3",
   "language": "python",
   "name": "python3"
  },
  "language_info": {
   "codemirror_mode": {
    "name": "ipython",
    "version": 3
   },
   "file_extension": ".py",
   "mimetype": "text/x-python",
   "name": "python",
   "nbconvert_exporter": "python",
   "pygments_lexer": "ipython3",
   "version": "3.13.0"
  }
 },
 "nbformat": 4,
 "nbformat_minor": 2
}
