{
 "cells": [
  {
   "cell_type": "markdown",
   "metadata": {},
   "source": [
    "### Importando a biblioteca Numpy"
   ]
  },
  {
   "cell_type": "code",
   "execution_count": 1,
   "metadata": {},
   "outputs": [],
   "source": [
    "import numpy as np"
   ]
  },
  {
   "cell_type": "markdown",
   "metadata": {},
   "source": [
    "### Gerar um NDArray de 2x3 (matriz 2x3, 2 linhas e 3 colunas)"
   ]
  },
  {
   "cell_type": "code",
   "execution_count": 2,
   "metadata": {},
   "outputs": [
    {
     "name": "stdout",
     "output_type": "stream",
     "text": [
      "[[0.63100341 0.06010908 0.1344365 ]\n",
      " [0.46599241 0.33649442 0.59220247]]\n"
     ]
    }
   ],
   "source": [
    "dados = np.random.rand(2,3)\n",
    "print(dados)"
   ]
  },
  {
   "cell_type": "markdown",
   "metadata": {},
   "source": [
    "### Mostrar o tipo de array que foi gerado"
   ]
  },
  {
   "cell_type": "code",
   "execution_count": 3,
   "metadata": {},
   "outputs": [
    {
     "name": "stdout",
     "output_type": "stream",
     "text": [
      "float64\n"
     ]
    }
   ],
   "source": [
    "print(dados.dtype)"
   ]
  },
  {
   "cell_type": "markdown",
   "metadata": {},
   "source": [
    "### Ver tamanho e quantidade de dimensões"
   ]
  },
  {
   "cell_type": "code",
   "execution_count": 5,
   "metadata": {},
   "outputs": [
    {
     "name": "stdout",
     "output_type": "stream",
     "text": [
      "(2, 3)\n",
      "2\n"
     ]
    }
   ],
   "source": [
    "# mostra o tamanho da matriz\n",
    "print(dados.shape)\n",
    "\n",
    "# mostra o número de dimensões da matriz\n",
    "print(dados.ndim)"
   ]
  },
  {
   "cell_type": "markdown",
   "metadata": {},
   "source": [
    "### np.array cria um array np a partir de uma lista "
   ]
  },
  {
   "cell_type": "code",
   "execution_count": 6,
   "metadata": {},
   "outputs": [
    {
     "name": "stdout",
     "output_type": "stream",
     "text": [
      "[1.  2.  3.  4.  5.5 6.7]\n"
     ]
    }
   ],
   "source": [
    "lista = [1,2,3,4,5.5,6.7]\n",
    "\n",
    "dados2 = np.array(lista)\n",
    "\n",
    "print(dados2)"
   ]
  },
  {
   "cell_type": "code",
   "execution_count": 8,
   "metadata": {},
   "outputs": [
    {
     "name": "stdout",
     "output_type": "stream",
     "text": [
      "[[1 2 3 4]\n",
      " [4 3 2 1]]\n",
      "(2, 4) 2\n"
     ]
    }
   ],
   "source": [
    "lista2 = [[1,2,3,4], [4,3,2,1]]\n",
    "\n",
    "dados3 = np.array(lista2)\n",
    "\n",
    "print(dados3)\n",
    "print(dados3.shape, dados3.ndim)"
   ]
  },
  {
   "cell_type": "markdown",
   "metadata": {},
   "source": [
    "### Outras maneiras de criar arrays"
   ]
  },
  {
   "cell_type": "code",
   "execution_count": 9,
   "metadata": {},
   "outputs": [
    {
     "name": "stdout",
     "output_type": "stream",
     "text": [
      "[0. 0. 0. 0. 0. 0. 0. 0. 0. 0.]\n"
     ]
    }
   ],
   "source": [
    "# cria um array de n posições preenchidas por 0s\n",
    "dadosZeros = np.zeros(10)\n",
    "\n",
    "print(dadosZeros)"
   ]
  },
  {
   "cell_type": "code",
   "execution_count": 11,
   "metadata": {},
   "outputs": [
    {
     "name": "stdout",
     "output_type": "stream",
     "text": [
      "[[0. 0. 0.]\n",
      " [0. 0. 0.]]\n"
     ]
    }
   ],
   "source": [
    "# cria uma matriz de dimensões n x m, preenchidas por 0\n",
    "dadosZeros2 = np.zeros((2,3))\n",
    "\n",
    "print(dadosZeros2)"
   ]
  },
  {
   "cell_type": "code",
   "execution_count": null,
   "metadata": {},
   "outputs": [
    {
     "name": "stdout",
     "output_type": "stream",
     "text": [
      "[1. 1. 1. 1. 1. 1. 1. 1. 1. 1.]\n"
     ]
    }
   ],
   "source": [
    "# cria um array de n posições preenchidas por 1s\n",
    "dadosUm = np.ones(10)\n",
    "\n",
    "print(dadosUm)"
   ]
  },
  {
   "cell_type": "code",
   "execution_count": null,
   "metadata": {},
   "outputs": [
    {
     "name": "stdout",
     "output_type": "stream",
     "text": [
      "[[1. 1.]\n",
      " [1. 1.]]\n"
     ]
    }
   ],
   "source": [
    "# cria uma matriz de dimensões n x m, preenchidas por 1\n",
    "dadosUm1 = np.ones((2,2))\n",
    "\n",
    "print(dadosUm1)"
   ]
  },
  {
   "cell_type": "code",
   "execution_count": 14,
   "metadata": {},
   "outputs": [
    {
     "name": "stdout",
     "output_type": "stream",
     "text": [
      "[0 1 2 3 4 5 6 7 8 9]\n"
     ]
    }
   ],
   "source": [
    "# Cria um array de n valores sequenciais\n",
    "dadosSeq = np.arange(10)\n",
    "\n",
    "print(dadosSeq)"
   ]
  },
  {
   "cell_type": "code",
   "execution_count": null,
   "metadata": {},
   "outputs": [
    {
     "name": "stdout",
     "output_type": "stream",
     "text": [
      "[ 0  2  4  6  8 10 12 14 16 18]\n"
     ]
    }
   ],
   "source": [
    "# cria um array que vai de 0 até 20, indo de 2 em 2\n",
    "dadosSeq2 = np.arange(0,20,2)\n",
    "\n",
    "print(dadosSeq2)"
   ]
  },
  {
   "cell_type": "markdown",
   "metadata": {},
   "source": [
    "### Também é possível transformar os tipo dos dados"
   ]
  },
  {
   "cell_type": "code",
   "execution_count": 17,
   "metadata": {},
   "outputs": [
    {
     "name": "stdout",
     "output_type": "stream",
     "text": [
      "float64\n"
     ]
    }
   ],
   "source": [
    "# Converte os dados para tipo float64\n",
    "dadosSeqf = dadosSeq2.astype(np.float64)\n",
    "\n",
    "print(dadosSeqf.dtype)"
   ]
  },
  {
   "cell_type": "markdown",
   "metadata": {},
   "source": [
    "## Aritmética com Arrays"
   ]
  },
  {
   "cell_type": "code",
   "execution_count": null,
   "metadata": {},
   "outputs": [
    {
     "name": "stdout",
     "output_type": "stream",
     "text": [
      "[[1 2 3]\n",
      " [4 5 6]]\n"
     ]
    }
   ],
   "source": [
    "dados4 = np.array([[1,2,3], [4,5,6]])\n",
    "\n",
    "print(dados4)\n",
    "\n",
    "# pode-se fazer soma,subtração, multiplicação, tudo utilizando os arrays"
   ]
  },
  {
   "cell_type": "markdown",
   "metadata": {},
   "source": [
    "### Slicing"
   ]
  },
  {
   "cell_type": "code",
   "execution_count": 25,
   "metadata": {},
   "outputs": [
    {
     "name": "stdout",
     "output_type": "stream",
     "text": [
      "[20 20 20]\n",
      "[ 0  1 20 20 20  5  6  7  8  9]\n",
      "[20 20]\n"
     ]
    }
   ],
   "source": [
    "print(dadosSeq[2:5])\n",
    "\n",
    "dadosSeq[2:5] = 20\n",
    "print(dadosSeq)\n",
    "\n",
    "fatiaDados = dadosSeq[2:4]\n",
    "print(fatiaDados)"
   ]
  },
  {
   "cell_type": "markdown",
   "metadata": {},
   "source": [
    "### Criando cópia dos dados"
   ]
  },
  {
   "cell_type": "code",
   "execution_count": null,
   "metadata": {},
   "outputs": [
    {
     "name": "stdout",
     "output_type": "stream",
     "text": [
      "[99 99]\n",
      "[ 0  1 20 20 20  5  6  7  8  9]\n"
     ]
    }
   ],
   "source": [
    "# Ao gerar uma cópia e alterar a cópia, não altera o original, apenas a cópia\n",
    "fatia2 = dadosSeq[2:4].copy()\n",
    "fatia2[:] = 99\n",
    "\n",
    "print(fatia2)\n",
    "print(dadosSeq)"
   ]
  },
  {
   "cell_type": "markdown",
   "metadata": {},
   "source": [
    "### Array com mais de uma dimensão"
   ]
  },
  {
   "cell_type": "code",
   "execution_count": null,
   "metadata": {},
   "outputs": [
    {
     "name": "stdout",
     "output_type": "stream",
     "text": [
      "[[1 2 3]\n",
      " [4 5 6]\n",
      " [7 8 9]]\n",
      "6\n"
     ]
    }
   ],
   "source": [
    "dados6 = np.array([[1,2,3], [4,5,6], [7,8,9]])\n",
    "\n",
    "print(dados6)\n",
    "\n",
    "# funciona como matriz\n",
    "print(dados6[1,2])"
   ]
  },
  {
   "cell_type": "markdown",
   "metadata": {},
   "source": [
    "### Máscaras"
   ]
  },
  {
   "cell_type": "code",
   "execution_count": null,
   "metadata": {},
   "outputs": [
    {
     "name": "stdout",
     "output_type": "stream",
     "text": [
      "[ True  True  True  True  True  True  True  True  True  True]\n"
     ]
    }
   ],
   "source": [
    "# Faz uma comparação para cada elemento do array e guarda na mascara\n",
    "mascara = (dadosSeq < 50)\n",
    "print(mascara)"
   ]
  },
  {
   "cell_type": "code",
   "execution_count": null,
   "metadata": {},
   "outputs": [
    {
     "name": "stdout",
     "output_type": "stream",
     "text": [
      "[8888 8888   20   20   20 8888 8888 8888 8888 8888]\n"
     ]
    }
   ],
   "source": [
    "# Atribue todos os elementos que são menores do que 20 o valor de 8888 \n",
    "# Usa a máscara para fazer essa comparação, atribuindo o valorsomente aqueles que são True\n",
    "dadosSeq[dadosSeq<20] = 8888\n",
    "\n",
    "print(dadosSeq)"
   ]
  },
  {
   "cell_type": "markdown",
   "metadata": {},
   "source": [
    "### Transposição"
   ]
  },
  {
   "cell_type": "code",
   "execution_count": null,
   "metadata": {},
   "outputs": [
    {
     "name": "stdout",
     "output_type": "stream",
     "text": [
      "[[ 0  1  2  3  4]\n",
      " [ 5  6  7  8  9]\n",
      " [10 11 12 13 14]]\n",
      "[[ 0  5 10]\n",
      " [ 1  6 11]\n",
      " [ 2  7 12]\n",
      " [ 3  8 13]\n",
      " [ 4  9 14]]\n"
     ]
    }
   ],
   "source": [
    "# Cria um array de 15 elementos e o configura para dimensão de 3x5 (3 linhas e 5 colunas)\n",
    "dados7 = np.arange(15).reshape((3,5))\n",
    "\n",
    "print(dados7)\n",
    "\n",
    "# Transpoe a matriz\n",
    "print(dados7.T)"
   ]
  },
  {
   "cell_type": "markdown",
   "metadata": {},
   "source": [
    "### Multiplicação de Matrizes"
   ]
  },
  {
   "cell_type": "code",
   "execution_count": 32,
   "metadata": {},
   "outputs": [
    {
     "name": "stdout",
     "output_type": "stream",
     "text": [
      "[[ 30  80 130]\n",
      " [ 80 255 430]\n",
      " [130 430 730]]\n"
     ]
    }
   ],
   "source": [
    "print(np.dot(dados7, dados7.T))"
   ]
  }
 ],
 "metadata": {
  "kernelspec": {
   "display_name": "base",
   "language": "python",
   "name": "python3"
  },
  "language_info": {
   "codemirror_mode": {
    "name": "ipython",
    "version": 3
   },
   "file_extension": ".py",
   "mimetype": "text/x-python",
   "name": "python",
   "nbconvert_exporter": "python",
   "pygments_lexer": "ipython3",
   "version": "3.9.12"
  }
 },
 "nbformat": 4,
 "nbformat_minor": 2
}
